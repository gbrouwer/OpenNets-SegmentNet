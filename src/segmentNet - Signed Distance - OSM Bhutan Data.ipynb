{
 "cells": [
  {
   "cell_type": "code",
   "execution_count": 1,
   "metadata": {
    "collapsed": false
   },
   "outputs": [],
   "source": [
    "%matplotlib inline\n",
    "import pandas as pd\n",
    "import numpy as np\n",
    "import sys,os,re,csv,glob,collections,itertools,pickle,datetime\n",
    "import dateutil\n",
    "import igraph\n",
    "import shapefile\n",
    "import numpy.ma as ma\n",
    "import matplotlib\n",
    "import scipy\n",
    "import matplotlib.pyplot as plt\n",
    "import matplotlib.patches as patches\n",
    "import matplotlib.colors as mcolors\n",
    "import gdal\n",
    "import scipy.io\n",
    "import matplotlib.image as mpimg\n",
    "\n",
    "from scipy import ndimage\n",
    "from scipy.spatial import ConvexHull\n",
    "from sklearn.decomposition import FastICA as ICA\n",
    "from sklearn.decomposition import PCA\n",
    "from scipy.ndimage.filters import gaussian_filter as gaussfilter\n",
    "from sklearn.neighbors import KDTree\n",
    "from mapbox import Static\n",
    "from tqdm import tqdm\n",
    "from gdalconst import *\n",
    "from scipy.misc import imresize\n",
    "from scipy.misc import imsave\n",
    "from scipy.spatial.distance import pdist\n",
    "from scipy.spatial.distance import squareform\n",
    "from matplotlib.patches import Polygon\n",
    "from matplotlib.collections import PatchCollection\n",
    "from mpl_toolkits.axes_grid1.inset_locator import inset_axes, zoomed_inset_axes\n",
    "from shapely.geometry import Point as SPoint\n",
    "from shapely.geometry.polygon import Polygon as SPolygon\n",
    "from statsmodels.tsa.stattools import grangercausalitytests as granger"
   ]
  },
  {
   "cell_type": "markdown",
   "metadata": {},
   "source": [
    "### Build Distance Grid"
   ]
  },
  {
   "cell_type": "code",
   "execution_count": 2,
   "metadata": {
    "collapsed": false
   },
   "outputs": [],
   "source": [
    "[X,Y] = np.meshgrid(range(512),range(512))\n",
    "X = X.reshape((512*512))\n",
    "Y = Y.reshape((512*512))\n",
    "C = np.zeros((X.shape[0],2))\n",
    "C[:,0] = X\n",
    "C[:,1] = Y"
   ]
  },
  {
   "cell_type": "markdown",
   "metadata": {},
   "source": [
    "### Loop"
   ]
  },
  {
   "cell_type": "code",
   "execution_count": 5,
   "metadata": {
    "collapsed": false
   },
   "outputs": [
    {
     "name": "stderr",
     "output_type": "stream",
     "text": [
      "\r",
      "|----------| 0/3   0% [elapsed: 00:00 left: ?, ? iters/sec]"
     ]
    },
    {
     "ename": "ValueError",
     "evalue": "Invalid shape in axis 0: 0.",
     "output_type": "error",
     "traceback": [
      "\u001b[0;31m---------------------------------------------------------------------------\u001b[0m",
      "\u001b[0;31mValueError\u001b[0m                                Traceback (most recent call last)",
      "\u001b[0;32m<ipython-input-5-8dec6277583b>\u001b[0m in \u001b[0;36m<module>\u001b[0;34m()\u001b[0m\n\u001b[1;32m     32\u001b[0m \u001b[0;34m\u001b[0m\u001b[0m\n\u001b[1;32m     33\u001b[0m     \u001b[0;31m#Build KD Tree\u001b[0m\u001b[0;34m\u001b[0m\u001b[0;34m\u001b[0m\u001b[0m\n\u001b[0;32m---> 34\u001b[0;31m     \u001b[0mtree\u001b[0m \u001b[0;34m=\u001b[0m \u001b[0mKDTree\u001b[0m\u001b[0;34m(\u001b[0m\u001b[0mB\u001b[0m\u001b[0;34m,\u001b[0m \u001b[0mleaf_size\u001b[0m\u001b[0;34m=\u001b[0m\u001b[0;36m2\u001b[0m\u001b[0;34m)\u001b[0m\u001b[0;34m\u001b[0m\u001b[0m\n\u001b[0m\u001b[1;32m     35\u001b[0m \u001b[0;34m\u001b[0m\u001b[0m\n\u001b[1;32m     36\u001b[0m     \u001b[0;31m#Query\u001b[0m\u001b[0;34m\u001b[0m\u001b[0;34m\u001b[0m\u001b[0m\n",
      "\u001b[0;32msklearn/neighbors/binary_tree.pxi\u001b[0m in \u001b[0;36msklearn.neighbors.kd_tree.BinaryTree.__init__ (sklearn/neighbors/kd_tree.c:8319)\u001b[0;34m()\u001b[0m\n",
      "\u001b[0;32msklearn/neighbors/binary_tree.pxi\u001b[0m in \u001b[0;36msklearn.neighbors.kd_tree.get_memview_DTYPE_2D (sklearn/neighbors/kd_tree.c:2662)\u001b[0;34m()\u001b[0m\n",
      "\u001b[0;32m/Users/gijs/Various/ungp/lib/python2.7/site-packages/sklearn/neighbors/kd_tree.so\u001b[0m in \u001b[0;36mView.MemoryView.array_cwrapper (sklearn/neighbors/kd_tree.c:25261)\u001b[0;34m()\u001b[0m\n",
      "\u001b[0;32m/Users/gijs/Various/ungp/lib/python2.7/site-packages/sklearn/neighbors/kd_tree.so\u001b[0m in \u001b[0;36mView.MemoryView.array.__cinit__ (sklearn/neighbors/kd_tree.c:24186)\u001b[0;34m()\u001b[0m\n",
      "\u001b[0;31mValueError\u001b[0m: Invalid shape in axis 0: 0."
     ]
    }
   ],
   "source": [
    "for imCount in tqdm(range(1675,1678)):\n",
    "\n",
    "    #Load Image\n",
    "    filename = '../../data/OSMNet/Bhutan/raw/label/' + '/' + str(int(imCount)) + '.png'\n",
    "    img = mpimg.imread(filename)\n",
    "    \n",
    "    #Find Boundaries\n",
    "    D = ndimage.grey_dilation(img, size=(3, 3), structure=np.ones((3, 3)))\n",
    "    boundaries = (D-img) - 1\n",
    "\n",
    "    #Remove Stray Points 1\n",
    "    sat = np.pad(boundaries, pad_width=1, mode='constant', constant_values=0)\n",
    "    sat = np.cumsum(np.cumsum(sat, axis=0), axis=1)\n",
    "    sat = np.pad(sat, ((1, 0), (1, 0)), mode='constant', constant_values=0)\n",
    "    sum3x3 = sat[3:, 3:] + sat[:-3, :-3] - sat[3:, :-3] - sat[:-3, 3:]\n",
    "    sum3x3 -= boundaries\n",
    "    boundaries[sum3x3 == 0] = 0\n",
    "\n",
    "    #Remove Stray Points 2\n",
    "    sat = np.pad(boundaries, pad_width=1, mode='constant', constant_values=0)\n",
    "    sat = np.cumsum(np.cumsum(sat, axis=0), axis=1)\n",
    "    sat = np.pad(sat, ((1, 0), (1, 0)), mode='constant', constant_values=0)\n",
    "    sum3x3 = sat[3:, 3:] + sat[:-3, :-3] - sat[3:, :-3] - sat[:-3, 3:]\n",
    "    sum3x3 -= boundaries\n",
    "    boundaries[sum3x3 == 0] = 0  \n",
    "    \n",
    "    #Get Boundary Coordinates\n",
    "    x,y = np.where(boundaries == 1)\n",
    "    B = np.zeros((len(x),2))\n",
    "    B[:,0] = x\n",
    "    B[:,1] = y\n",
    "    \n",
    "    #Build KD Tree\n",
    "    tree = KDTree(B, leaf_size=2)\n",
    "    \n",
    "    #Query\n",
    "    dist,ind = tree.query(C,1)\n",
    "    dist = np.array(dist)\n",
    "    dist = dist.reshape((512,512))\n",
    "    dist = dist.T    \n",
    "\n",
    "    #Create Signed Image\n",
    "    newimg = (img * 2) - 1\n",
    "    sigdis = dist*newimg\n",
    "    \n",
    "    #Bin Values\n",
    "    val = np.max(sigdis)\n",
    "    sigdis[sigdis < -val] = -val\n",
    "    sigdis = sigdis + val\n",
    "    sigdis = sigdis / (val*2)\n",
    "    sigdis = 64 + sigdis * 128\n",
    "    sigdis = np.round(sigdis)\n",
    "    sigdis = sigdis.astype(int)\n",
    "    \n",
    "    #Save\n",
    "    filename = '../../data/OSMNet/Bhutan/raw/signed' + '/' + str(int(imCount)) + '.png'\n",
    "    imsave(filename, sigdis)"
   ]
  },
  {
   "cell_type": "code",
   "execution_count": null,
   "metadata": {
    "collapsed": true
   },
   "outputs": [],
   "source": []
  }
 ],
 "metadata": {
  "kernelspec": {
   "display_name": "Python 2",
   "language": "python",
   "name": "python2"
  },
  "language_info": {
   "codemirror_mode": {
    "name": "ipython",
    "version": 2
   },
   "file_extension": ".py",
   "mimetype": "text/x-python",
   "name": "python",
   "nbconvert_exporter": "python",
   "pygments_lexer": "ipython2",
   "version": "2.7.10"
  }
 },
 "nbformat": 4,
 "nbformat_minor": 0
}
