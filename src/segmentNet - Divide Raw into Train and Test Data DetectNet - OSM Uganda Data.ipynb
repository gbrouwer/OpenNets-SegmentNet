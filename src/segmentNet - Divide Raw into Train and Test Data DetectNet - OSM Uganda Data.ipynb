{
 "cells": [
  {
   "cell_type": "markdown",
   "metadata": {},
   "source": [
    "### Import"
   ]
  },
  {
   "cell_type": "code",
   "execution_count": 1,
   "metadata": {
    "collapsed": false
   },
   "outputs": [],
   "source": [
    "%matplotlib inline\n",
    "import pandas as pd\n",
    "import numpy as np\n",
    "import sys,os,re,csv,glob,collections,itertools,pickle,datetime\n",
    "import dateutil\n",
    "import igraph\n",
    "import shapefile\n",
    "import numpy.ma as ma\n",
    "import matplotlib\n",
    "import scipy\n",
    "import matplotlib.pyplot as plt\n",
    "import matplotlib.patches as patches\n",
    "import matplotlib.colors as mcolors\n",
    "import gdal\n",
    "import scipy.io\n",
    "import matplotlib.image as mpimg\n",
    "from tqdm import tqdm"
   ]
  },
  {
   "cell_type": "markdown",
   "metadata": {},
   "source": [
    "### Divide Training / Validation Ratio"
   ]
  },
  {
   "cell_type": "code",
   "execution_count": 2,
   "metadata": {
    "collapsed": true
   },
   "outputs": [],
   "source": [
    "divideRatio = 0.8"
   ]
  },
  {
   "cell_type": "markdown",
   "metadata": {},
   "source": [
    "### Find the available files"
   ]
  },
  {
   "cell_type": "code",
   "execution_count": 7,
   "metadata": {
    "collapsed": false
   },
   "outputs": [],
   "source": [
    "#Find Available Files for Empty Patches\n",
    "images = []\n",
    "for root, dirs, files in os.walk(\"../../data/OSMNet/Uganda/raw/images/\", topdown=False):\n",
    "    for name in files:\n",
    "        images.append(os.path.join(root, name))\n",
    "        \n",
    "labels = []\n",
    "for root, dirs, files in os.walk(\"../../data/OSMNet/Uganda/raw/signed/\", topdown=False):\n",
    "    for name in files:\n",
    "        labels.append(os.path.join(root, name))        "
   ]
  },
  {
   "cell_type": "code",
   "execution_count": 8,
   "metadata": {
    "collapsed": false
   },
   "outputs": [
    {
     "name": "stdout",
     "output_type": "stream",
     "text": [
      "['../../data/OSMNet/Bhutan/raw/images/0.png', '../../data/OSMNet/Bhutan/raw/images/1.png', '../../data/OSMNet/Bhutan/raw/images/10.png', '../../data/OSMNet/Bhutan/raw/images/100.png', '../../data/OSMNet/Bhutan/raw/images/1000.png', '../../data/OSMNet/Bhutan/raw/images/1001.png', '../../data/OSMNet/Bhutan/raw/images/1002.png', '../../data/OSMNet/Bhutan/raw/images/1003.png', '../../data/OSMNet/Bhutan/raw/images/1004.png', '../../data/OSMNet/Bhutan/raw/images/1005.png']\n",
      "['../../data/OSMNet/Bhutan/raw/signed/0.png', '../../data/OSMNet/Bhutan/raw/signed/1.png', '../../data/OSMNet/Bhutan/raw/signed/10.png', '../../data/OSMNet/Bhutan/raw/signed/100.png', '../../data/OSMNet/Bhutan/raw/signed/1000.png', '../../data/OSMNet/Bhutan/raw/signed/1001.png', '../../data/OSMNet/Bhutan/raw/signed/1002.png', '../../data/OSMNet/Bhutan/raw/signed/1003.png', '../../data/OSMNet/Bhutan/raw/signed/1004.png', '../../data/OSMNet/Bhutan/raw/signed/1005.png']\n"
     ]
    }
   ],
   "source": [
    "print images[0:10]\n",
    "print labels[0:10]"
   ]
  },
  {
   "cell_type": "markdown",
   "metadata": {},
   "source": [
    "### Divide into train and validation"
   ]
  },
  {
   "cell_type": "code",
   "execution_count": 9,
   "metadata": {
    "collapsed": false
   },
   "outputs": [
    {
     "name": "stdout",
     "output_type": "stream",
     "text": [
      "8000\n"
     ]
    }
   ],
   "source": [
    "#What is the smallest category?\n",
    "nRaw = np.min([len(images),len(images)])\n",
    "print nRaw"
   ]
  },
  {
   "cell_type": "code",
   "execution_count": 10,
   "metadata": {
    "collapsed": false
   },
   "outputs": [],
   "source": [
    "#Create a random permuration of the images\n",
    "randindices = np.random.permutation(nRaw)\n",
    "divider = int(np.round(nRaw*divideRatio))\n",
    "trainIndices = randindices[:divider]\n",
    "valIndices = randindices[divider:]"
   ]
  },
  {
   "cell_type": "code",
   "execution_count": 11,
   "metadata": {
    "collapsed": false
   },
   "outputs": [
    {
     "name": "stdout",
     "output_type": "stream",
     "text": [
      "[2979 4964  653 ..., 6532 3968 6412]\n"
     ]
    }
   ],
   "source": [
    "print trainIndices"
   ]
  },
  {
   "cell_type": "code",
   "execution_count": 12,
   "metadata": {
    "collapsed": false
   },
   "outputs": [],
   "source": [
    "#Delete Previous Data and create directories\n",
    "os.system('rm -rf ../../data/OSMNet/Uganda/train/images');\n",
    "os.system('rm -rf ../../data/OSMNet/Uganda/val/images');\n",
    "os.system('rm -rf ../../data/OSMNet/Uganda/train/signed');\n",
    "os.system('rm -rf ../../data/OSMNet/Uganda/val/signed');\n",
    "os.system('mkdir -p ../../data/OSMNet/Uganda/val/images');\n",
    "os.system('mkdir -p ../../data/OSMNet/Uganda/train/images');\n",
    "os.system('mkdir -p ../../data/OSMNet/Uganda/val/signed')\n",
    "os.system('mkdir -p ../../data/OSMNet/Uganda/train/signed');"
   ]
  },
  {
   "cell_type": "code",
   "execution_count": 13,
   "metadata": {
    "collapsed": false
   },
   "outputs": [
    {
     "name": "stderr",
     "output_type": "stream",
     "text": [
      "                                                                          "
     ]
    },
    {
     "name": "stdout",
     "output_type": "stream",
     "text": [
      "\r"
     ]
    }
   ],
   "source": [
    "#Copy train indices images over\n",
    "for i in tqdm(range(0,len(trainIndices),1)):\n",
    "    index = trainIndices[i]\n",
    "    orig = images[index]\n",
    "    dest = orig.replace('raw','train')\n",
    "    os.system('cp ' + orig + ' ' + dest)\n",
    "    orig = labels[index]\n",
    "    dest = orig.replace('raw','train')\n",
    "    os.system('cp ' + orig + ' ' + dest)    "
   ]
  },
  {
   "cell_type": "code",
   "execution_count": 14,
   "metadata": {
    "collapsed": false
   },
   "outputs": [
    {
     "name": "stderr",
     "output_type": "stream",
     "text": [
      "                                                                          "
     ]
    },
    {
     "name": "stdout",
     "output_type": "stream",
     "text": [
      "\r"
     ]
    }
   ],
   "source": [
    "#Copy val indices images over\n",
    "for i in tqdm(range(0,len(valIndices),1)):\n",
    "    index = valIndices[i]\n",
    "    orig = images[index]\n",
    "    dest = orig.replace('raw','val')\n",
    "    os.system('cp ' + orig + ' ' + dest)\n",
    "    orig = labels[index]\n",
    "    dest = orig.replace('raw','val')\n",
    "    os.system('cp ' + orig + ' ' + dest)    "
   ]
  },
  {
   "cell_type": "code",
   "execution_count": null,
   "metadata": {
    "collapsed": true
   },
   "outputs": [],
   "source": []
  }
 ],
 "metadata": {
  "kernelspec": {
   "display_name": "Python 2",
   "language": "python",
   "name": "python2"
  },
  "language_info": {
   "codemirror_mode": {
    "name": "ipython",
    "version": 2
   },
   "file_extension": ".py",
   "mimetype": "text/x-python",
   "name": "python",
   "nbconvert_exporter": "python",
   "pygments_lexer": "ipython2",
   "version": "2.7.10"
  }
 },
 "nbformat": 4,
 "nbformat_minor": 0
}
